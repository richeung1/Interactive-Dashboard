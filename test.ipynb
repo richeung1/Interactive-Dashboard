{
 "cells": [
  {
   "cell_type": "code",
   "execution_count": 1,
   "metadata": {},
   "outputs": [
    {
     "name": "stdout",
     "output_type": "stream",
     "text": [
      "Collecting openpyxl==3.0.3\n",
      "  Using cached openpyxl-3.0.3-py2.py3-none-any.whl\n",
      "Requirement already satisfied: et-xmlfile in c:\\users\\riche\\anaconda3\\envs\\streamlit\\lib\\site-packages (from openpyxl==3.0.3) (1.1.0)\n",
      "Requirement already satisfied: jdcal in c:\\users\\riche\\anaconda3\\envs\\streamlit\\lib\\site-packages (from openpyxl==3.0.3) (1.4.1)\n",
      "Installing collected packages: openpyxl\n",
      "  Attempting uninstall: openpyxl\n",
      "    Found existing installation: openpyxl 2.6.2\n",
      "    Uninstalling openpyxl-2.6.2:\n",
      "      Successfully uninstalled openpyxl-2.6.2\n",
      "Successfully installed openpyxl-3.0.3\n",
      "Note: you may need to restart the kernel to use updated packages.\n"
     ]
    }
   ],
   "source": [
    "# !pip install pandas\n",
    "# !pip install streamlit \n",
    "%pip install openpyxl==3.0.3\n",
    "# !pip install jdcal"
   ]
  },
  {
   "cell_type": "code",
   "execution_count": 2,
   "metadata": {},
   "outputs": [],
   "source": [
    "import pandas as pd \n",
    "import streamlit as st \n",
    "import openpyxl\n",
    "\n",
    "\n"
   ]
  }
 ],
 "metadata": {
  "interpreter": {
   "hash": "0d759dcf9b15a40dd254bff3dfb771c4c71484603d8ad6c736d254cf4c2ee66d"
  },
  "kernelspec": {
   "display_name": "Python 3.8.13 ('streamlit')",
   "language": "python",
   "name": "python3"
  },
  "language_info": {
   "codemirror_mode": {
    "name": "ipython",
    "version": 3
   },
   "file_extension": ".py",
   "mimetype": "text/x-python",
   "name": "python",
   "nbconvert_exporter": "python",
   "pygments_lexer": "ipython3",
   "version": "3.8.13"
  },
  "orig_nbformat": 4
 },
 "nbformat": 4,
 "nbformat_minor": 2
}
